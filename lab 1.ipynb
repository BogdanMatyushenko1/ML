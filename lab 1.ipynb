{
  "nbformat": 4,
  "nbformat_minor": 0,
  "metadata": {
    "colab": {
      "provenance": [],
      "authorship_tag": "ABX9TyMDVQI1hY3eik9WNBkdIvTw",
      "include_colab_link": true
    },
    "kernelspec": {
      "name": "python3",
      "display_name": "Python 3"
    },
    "language_info": {
      "name": "python"
    }
  },
  "cells": [
    {
      "cell_type": "markdown",
      "metadata": {
        "id": "view-in-github",
        "colab_type": "text"
      },
      "source": [
        "<a href=\"https://colab.research.google.com/github/BogdanMatyushenko1/ML/blob/main/lab%201.ipynb\" target=\"_parent\"><img src=\"https://colab.research.google.com/assets/colab-badge.svg\" alt=\"Open In Colab\"/></a>"
      ]
    },
    {
      "cell_type": "code",
      "execution_count": null,
      "metadata": {
        "id": "kyU1lyc5G4bx"
      },
      "outputs": [],
      "source": [
        "import numpy as np"
      ]
    },
    {
      "cell_type": "code",
      "source": [
        "# Завдання 1: Створіть одновимірний масив (вектор) зі зростаючою геометричною прогресією, де кожне наступне число більше попереднього в 2 рази, починаючи з 2, та виведіть його значення.\n",
        "vector = np.array([2**i for i in range(10)])\n",
        "print(\"Завдання 1:\", vector)"
      ],
      "metadata": {
        "colab": {
          "base_uri": "https://localhost:8080/"
        },
        "id": "_idARJiJKh3Q",
        "outputId": "b355787d-555d-43ce-aae2-b069e7960d8f"
      },
      "execution_count": null,
      "outputs": [
        {
          "output_type": "stream",
          "name": "stdout",
          "text": [
            "Завдання 1: [  1   2   4   8  16  32  64 128 256 512]\n"
          ]
        }
      ]
    },
    {
      "cell_type": "code",
      "source": [
        "# Завдання 2: Створіть двовимірний масив (матрицю) розміром 3x3, заповніть його оберненими значеннями натуральних чисел, починаючи з 1, та виведіть його значення.\n",
        "matrix = np.array([[1/(i + j + 1) for j in range(3)] for i in range(3)])\n",
        "print(\"\\nЗавдання 2:\\n\", matrix)"
      ],
      "metadata": {
        "colab": {
          "base_uri": "https://localhost:8080/"
        },
        "id": "L5IsOw8rKjI-",
        "outputId": "625e5bd6-60c3-40da-fae7-003d7a3e0ac3"
      },
      "execution_count": null,
      "outputs": [
        {
          "output_type": "stream",
          "name": "stdout",
          "text": [
            "\n",
            "Завдання 2:\n",
            " [[1.         0.5        0.33333333]\n",
            " [0.5        0.33333333 0.25      ]\n",
            " [0.33333333 0.25       0.2       ]]\n"
          ]
        }
      ]
    },
    {
      "cell_type": "code",
      "source": [
        "# Завдання 3:Створіть масив розміром 3x3, заповніть його випадковими дійсними числами в діапазоні від -3 до 3 та знайдіть максимальний елемент.\n",
        "matrix = np.random.uniform(-3, 3, (3, 3))\n",
        "max_element = np.max(matrix)\n",
        "print(\"\\nЗавдання 3:\\n\", matrix, \"\\nМаксимальний елемент:\", max_element)"
      ],
      "metadata": {
        "colab": {
          "base_uri": "https://localhost:8080/"
        },
        "id": "mwN9HoDlKk6m",
        "outputId": "3ee0be34-20c9-46ae-bd19-4007c142f15b"
      },
      "execution_count": null,
      "outputs": [
        {
          "output_type": "stream",
          "name": "stdout",
          "text": [
            "\n",
            "Завдання 3:\n",
            " [[-1.96490925  1.82031161 -1.87434888]\n",
            " [ 2.68722783 -1.32792847  1.237462  ]\n",
            " [ 0.63554121 -2.22531225  1.51790799]] \n",
            "Максимальний елемент: 2.687227830703641\n"
          ]
        }
      ]
    },
    {
      "cell_type": "code",
      "source": [
        "# Завдання 4: Створіть масив розміром 3x3, заповніть його випадковими дійсними числами в діапазоні від 0 до 1 та знайдіть вектор-стовпчик, що містить суму елементів кожного стовпця, менших за 0.5.\n",
        "matrix = np.random.uniform(0, 1, (3, 3))\n",
        "column_sums = np.sum(matrix * (matrix < 0.5), axis=0)\n",
        "print(\"\\nЗавдання 4:\\n\", matrix, \"\\nВектор-стовпчик:\", column_sums)"
      ],
      "metadata": {
        "colab": {
          "base_uri": "https://localhost:8080/"
        },
        "id": "E__TpSuYKmn-",
        "outputId": "809ff3d1-cefa-498d-ede8-3392c30db77d"
      },
      "execution_count": null,
      "outputs": [
        {
          "output_type": "stream",
          "name": "stdout",
          "text": [
            "\n",
            "Завдання 4:\n",
            " [[0.81518315 0.6543812  0.8894444 ]\n",
            " [0.55398739 0.86702572 0.62896194]\n",
            " [0.93600796 0.40960038 0.31061646]] \n",
            "Вектор-стовпчик: [0.         0.40960038 0.31061646]\n"
          ]
        }
      ]
    },
    {
      "cell_type": "code",
      "source": [
        "# Завдання 5: Створіть два одновимірних масиви розміром 6, заповніть їх випадковими дійсними числами від -2 до 2 та виконайте на них поелементні операції додавання, віднімання та множення.\n",
        "vector1 = np.random.uniform(-2, 2, 6)\n",
        "vector2 = np.random.uniform(-2, 2, 6)\n",
        "print(\"\\nЗавдання 5:\")\n",
        "print(\"Сума:\", vector1 + vector2)\n",
        "print(\"Різниця:\", vector1 - vector2)\n",
        "print(\"Добуток:\", vector1 * vector2)"
      ],
      "metadata": {
        "colab": {
          "base_uri": "https://localhost:8080/"
        },
        "id": "VMytVtJGKoeu",
        "outputId": "08fa6d8e-6be4-43d3-946d-39e074eabdfe"
      },
      "execution_count": null,
      "outputs": [
        {
          "output_type": "stream",
          "name": "stdout",
          "text": [
            "\n",
            "Завдання 5:\n",
            "Сума: [-0.68039177  0.15386935  1.41553025 -1.23244699  0.49128755 -0.09056565]\n",
            "Різниця: [ 0.02010006 -0.93175978 -2.08823877 -2.29668219  1.32390936  2.95130881]\n",
            "Добуток: [ 0.11563224 -0.21112513 -0.58925382 -0.93895588 -0.37784313 -2.17550539]\n"
          ]
        }
      ]
    },
    {
      "cell_type": "code",
      "source": [
        "# Завдання 6: Створіть дві матриці 4x4, заповніть їх довільними цілими числами від 1 до 5 та знайдіть їх добуток.\n",
        "matrix1 = np.random.randint(1, 6, (4, 4))\n",
        "matrix2 = np.random.randint(1, 6, (4, 4))\n",
        "product = np.dot(matrix1, matrix2)\n",
        "print(\"\\nЗавдання 6:\\n\", product)\n"
      ],
      "metadata": {
        "colab": {
          "base_uri": "https://localhost:8080/"
        },
        "id": "wr8QhTZPKqoP",
        "outputId": "30f50dfd-1b7e-4d94-b84d-5938bcabe626"
      },
      "execution_count": null,
      "outputs": [
        {
          "output_type": "stream",
          "name": "stdout",
          "text": [
            "\n",
            "Завдання 6:\n",
            " [[49 70 35 42]\n",
            " [22 32 16 20]\n",
            " [27 42 24 23]\n",
            " [28 51 31 28]]\n"
          ]
        }
      ]
    },
    {
      "cell_type": "code",
      "source": [
        "# Завдання 7: Створіть дві матриці розміром 3x2 та 2x2, заповніть їх випадковими цілими числами в діапазоні від 1 до 8 та перемножте їх між собою.\n",
        "matrix1 = np.random.randint(1, 9, (3, 2))\n",
        "matrix2 = np.random.randint(1, 9, (2, 2))\n",
        "product = np.dot(matrix1, matrix2)\n",
        "print(\"\\nЗавдання 7:\\n\", product)"
      ],
      "metadata": {
        "colab": {
          "base_uri": "https://localhost:8080/"
        },
        "id": "DvgBUoxaKsBu",
        "outputId": "f3d3e205-a0e4-4aee-b9e5-97a5f96bb045"
      },
      "execution_count": null,
      "outputs": [
        {
          "output_type": "stream",
          "name": "stdout",
          "text": [
            "\n",
            "Завдання 7:\n",
            " [[46 14]\n",
            " [14  4]\n",
            " [51 15]]\n"
          ]
        }
      ]
    },
    {
      "cell_type": "code",
      "source": [
        "# Завдання 8: Створіть матрицю розміром 2x2, заповніть її випадковими цілими числами в діапазоні від 1 до 15 та знайдіть її обернену матрицю.\n",
        "matrix = np.random.randint(1, 16, (2, 2))\n",
        "inverse = np.linalg.inv(matrix)\n",
        "print(\"\\nЗавдання 8:\\n\", matrix, \"\\nОбернена матриця:\\n\", inverse)\n"
      ],
      "metadata": {
        "colab": {
          "base_uri": "https://localhost:8080/"
        },
        "id": "r_ooTeCKKt1e",
        "outputId": "daaf7004-5397-4bb7-a01f-9d41068d80f0"
      },
      "execution_count": null,
      "outputs": [
        {
          "output_type": "stream",
          "name": "stdout",
          "text": [
            "\n",
            "Завдання 8:\n",
            " [[ 3 13]\n",
            " [ 1  6]] \n",
            "Обернена матриця:\n",
            " [[ 1.2 -2.6]\n",
            " [-0.2  0.6]]\n"
          ]
        }
      ]
    },
    {
      "cell_type": "code",
      "source": [
        "# Завдання 9: Створіть матрицю розміром 7x3, заповніть її випадковими дійсними числами в діапазоні від 0 до 1 та транспонуйте її.\n",
        "matrix = np.random.uniform(0, 1, (7, 3))\n",
        "transposed = matrix.T\n",
        "print(\"\\nЗавдання 9:\\n\", transposed)"
      ],
      "metadata": {
        "colab": {
          "base_uri": "https://localhost:8080/"
        },
        "id": "PnxNWiBxKvkO",
        "outputId": "08d761d9-483d-44b7-a590-7300df2561aa"
      },
      "execution_count": null,
      "outputs": [
        {
          "output_type": "stream",
          "name": "stdout",
          "text": [
            "\n",
            "Завдання 9:\n",
            " [[0.47186584 0.60364347 0.67674086 0.21453286 0.88655122 0.95131168\n",
            "  0.759601  ]\n",
            " [0.51645328 0.43312235 0.76768307 0.15629146 0.63060876 0.63648172\n",
            "  0.00693056]\n",
            " [0.80097265 0.66131297 0.70363387 0.10934916 0.17919317 0.17420888\n",
            "  0.14494771]]\n"
          ]
        }
      ]
    },
    {
      "cell_type": "code",
      "source": [
        "# Завдання 10: Створіть матрицю розміром 3x4 та вектор розміром 4x1, заповніть матрицю випадковими цілими числами в діапазоні від 1 до 10, а вектор - випадковими дійсними числами від 0 до 1, і знайдіть добуток матриці на вектор.\n",
        "matrix = np.random.randint(1, 11, (3, 4))\n",
        "vector = np.random.uniform(0, 1, (4, 1))\n",
        "product = np.dot(matrix, vector)\n",
        "print(\"\\nЗавдання 10:\\n\", product)"
      ],
      "metadata": {
        "colab": {
          "base_uri": "https://localhost:8080/"
        },
        "id": "mVSrkDudKyA2",
        "outputId": "f3ef8157-8c73-43d0-8c0c-7974bf21889b"
      },
      "execution_count": null,
      "outputs": [
        {
          "output_type": "stream",
          "name": "stdout",
          "text": [
            "\n",
            "Завдання 10:\n",
            " [[ 8.28221739]\n",
            " [11.26469998]\n",
            " [13.26093151]]\n"
          ]
        }
      ]
    },
    {
      "cell_type": "code",
      "source": [
        "# Завдання 11:Створіть матрицю розміром 2x3 та вектор розміром 3x1, заповніть матрицю випадковими дійсними числами від 0 до 1, а вектор - випадковими дійсними числами від 0 до 1, і знайдіть добуток матриці на вектор.\n",
        "matrix = np.random.uniform(0, 1, (2, 3))\n",
        "vector = np.random.uniform(0, 1, (3, 1))\n",
        "product = np.dot(matrix, vector)\n",
        "print(\"\\nЗавдання 11:\\n\", product)\n",
        "\n"
      ],
      "metadata": {
        "colab": {
          "base_uri": "https://localhost:8080/"
        },
        "id": "1SduggPFKzSm",
        "outputId": "c5717cfa-a1db-4584-cf15-5af38b3f6665"
      },
      "execution_count": null,
      "outputs": [
        {
          "output_type": "stream",
          "name": "stdout",
          "text": [
            "\n",
            "Завдання 11:\n",
            " [[0.18351038]\n",
            " [0.30353722]]\n"
          ]
        }
      ]
    },
    {
      "cell_type": "code",
      "source": [
        "# Завдання 12: Створіть дві матриці розміром 6x6, заповніть їх випадковими цілими числами в діапазоні від 1 до 10 та знайдіть їхню суму.\n",
        "matrix1 = np.random.randint(1, 11, (6, 6))\n",
        "matrix2 = np.random.randint(1, 11, (6, 6))\n",
        "sum_matrix = matrix1 + matrix2\n",
        "print(\"\\nЗавдання 12:\\n\", sum_matrix)"
      ],
      "metadata": {
        "colab": {
          "base_uri": "https://localhost:8080/"
        },
        "id": "jqqVMXb0K1vW",
        "outputId": "0320d1b7-ab1b-49ea-8c5d-84c588111dff"
      },
      "execution_count": null,
      "outputs": [
        {
          "output_type": "stream",
          "name": "stdout",
          "text": [
            "\n",
            "Завдання 12:\n",
            " [[ 5 15 15 12  8 17]\n",
            " [14 12 15 10 17  4]\n",
            " [11  8 15 14 16 18]\n",
            " [12 14  8 16 11  9]\n",
            " [10  4 11  4 16 16]\n",
            " [18 10  9 14 12  9]]\n"
          ]
        }
      ]
    },
    {
      "cell_type": "code",
      "source": [
        "# Завдання 13: Створіть дві матриці розміром 3x3, заповніть їх випадковими дійсними числами в діапазоні від 0 до 1 та знайдіть добуток їх елементів.\n",
        "matrix1 = np.random.uniform(0, 1, (3, 3))\n",
        "matrix2 = np.random.uniform(0, 1, (3, 3))\n",
        "elementwise_product = matrix1 * matrix2\n",
        "print(\"\\nЗавдання 13:\\n\", elementwise_product)"
      ],
      "metadata": {
        "colab": {
          "base_uri": "https://localhost:8080/"
        },
        "id": "DHry7D7oK3nv",
        "outputId": "a5b7729b-c0eb-4ad6-ded8-d1e0c4639902"
      },
      "execution_count": null,
      "outputs": [
        {
          "output_type": "stream",
          "name": "stdout",
          "text": [
            "\n",
            "Завдання 13:\n",
            " [[0.45348631 0.54734206 0.03781202]\n",
            " [0.26166828 0.09143468 0.42616904]\n",
            " [0.04764328 0.01210266 0.80677801]]\n"
          ]
        }
      ]
    },
    {
      "cell_type": "code",
      "source": [
        "# Завдання 14: Створіть матрицю розміром 3x3, заповніть її випадковими дійсними числами в діапазоні від -5 до 5 та знайдіть суму елементів матриці, які більше за їх середнє арифметичне значення.\n",
        "matrix = np.random.uniform(-5, 5, (3, 3))\n",
        "mean_value = np.mean(matrix)\n",
        "sum_greater = np.sum(matrix[matrix > mean_value])\n",
        "print(\"\\nЗавдання 14:\\n\", matrix, \"\\nСума елементів більше за середнє:\", sum_greater)"
      ],
      "metadata": {
        "colab": {
          "base_uri": "https://localhost:8080/"
        },
        "id": "FB3x828YK5hH",
        "outputId": "59ee1591-079a-4f1b-a2fe-ea0d2c4dd833"
      },
      "execution_count": null,
      "outputs": [
        {
          "output_type": "stream",
          "name": "stdout",
          "text": [
            "\n",
            "Завдання 14:\n",
            " [[ 3.89747233  4.48498436 -0.5931174 ]\n",
            " [ 4.09109097  3.57135997  2.16543233]\n",
            " [ 3.25286869  3.40006586 -2.16760397]] \n",
            "Сума елементів більше за середнє: 22.697842183241704\n"
          ]
        }
      ]
    },
    {
      "cell_type": "code",
      "source": [
        "# Завдання 15: Створіть матрицю розміром 3x3, заповніть її випадковими дійсними числами в діапазоні від 0 до 1 та знайдіть вектор-стовпчик, що містить найменше ціле значення в кожному рядку матриці.\n",
        "matrix = np.random.uniform(0, 1, (3, 3))\n",
        "min_values = np.floor(np.min(matrix, axis=1))\n",
        "print(\"\\nЗавдання 15:\\n\", matrix, \"\\nВектор-стовпчик:\", min_values)"
      ],
      "metadata": {
        "colab": {
          "base_uri": "https://localhost:8080/"
        },
        "id": "Z38Y1bAqK7F-",
        "outputId": "8b687627-1fae-4d9b-8f38-d0d121c68027"
      },
      "execution_count": null,
      "outputs": [
        {
          "output_type": "stream",
          "name": "stdout",
          "text": [
            "\n",
            "Завдання 15:\n",
            " [[0.67027351 0.48130423 0.27844569]\n",
            " [0.5457792  0.40210479 0.85844106]\n",
            " [0.41082001 0.86684294 0.85403688]] \n",
            "Вектор-стовпчик: [0. 0. 0.]\n"
          ]
        }
      ]
    }
  ]
}